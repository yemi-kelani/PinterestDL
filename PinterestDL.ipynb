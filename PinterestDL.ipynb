{
 "cells": [
  {
   "cell_type": "code",
   "execution_count": 83,
   "id": "23ff23b8-7660-48ee-80a2-4c598e0f4e48",
   "metadata": {},
   "outputs": [],
   "source": [
    "\"\"\"\n",
    "Very useful for downloading references for artwork.\n",
    "Batch download all pins, on all boards, saved or created by a specified user.\n",
    "Simply modify the pinterestUsername and run the script.\n",
    "@author: aak\n",
    "\"\"\""
   ]
  },
  {
   "cell_type": "code",
   "execution_count": 207,
   "id": "ff4c9005-4fd4-49a8-939c-8cc9785f3a19",
   "metadata": {},
   "outputs": [],
   "source": [
    "import os\n",
    "import re\n",
    "import requests\n",
    "from bs4 import BeautifulSoup\n",
    "pinterestUsername=\"\"\n",
    "pinterestURL=\"https://www.pinterest.com\""
   ]
  },
  {
   "cell_type": "code",
   "execution_count": 85,
   "id": "5845a0dd-e655-45cf-8b2a-1500b3618ee5",
   "metadata": {},
   "outputs": [],
   "source": [
    "board_page = requests.get(pinterestURL + \"/\" + pinterestUsername + \"/\")\n",
    "doc = BeautifulSoup(board_page.text, \"html.parser\")\n",
    "del board_page\n",
    "# print(doc.prettify())"
   ]
  },
  {
   "cell_type": "code",
   "execution_count": 86,
   "id": "0f717e75-dcd1-4811-b2c4-dd18bdd25f1d",
   "metadata": {},
   "outputs": [],
   "source": [
    "# find boards associated with user\n",
    "boards = []\n",
    "for a_tag in doc.find_all('a', href=re.compile(\"/\" + pinterestUsername + \"/*\")):\n",
    "    boards.append(a_tag[\"href\"])\n",
    "\n",
    "boards.remove(\"/\" + pinterestUsername + \"/_created\")\n",
    "boards.remove(\"/\" + pinterestUsername + \"/_saved\")"
   ]
  },
  {
   "cell_type": "code",
   "execution_count": 209,
   "id": "d78ef00e-4b32-4339-a7fd-71c7b798df45",
   "metadata": {},
   "outputs": [],
   "source": [
    "# for each board associated with user, download pins\n",
    "pins_downloaded = 0 \n",
    "for b in boards:\n",
    "    folder_name = \"pins/\" + b.split(\"/\")[-2]\n",
    "    if not os.path.exists(folder_name):\n",
    "        os.makedirs(folder_name)\n",
    "    \n",
    "    pinterestBoardURL = pinterestURL + b\n",
    "    page = requests.get(pinterestBoardURL)\n",
    "    doc = BeautifulSoup(page.text, \"html.parser\")\n",
    "    \n",
    "    pins = []\n",
    "    for pin in doc.find_all('a', href=re.compile(\"/pin/\")):\n",
    "        pins.append(pin[\"href\"])\n",
    "    \n",
    "    del page, doc\n",
    "    \n",
    "    \n",
    "    os.system(f\"pushd {folder_name}; pwd\")\n",
    "    for pin in pins:\n",
    "        os.system(f\"gallery-dl {pinterestURL + pin}\")\n",
    "    \n",
    "    os.system(\"popd; pwd\")\n",
    "    pins_downloaded += len(pins)\n",
    "    print(f\"{folder_name}: {len(pins)}\")\n",
    "\n",
    "print(f\"Total pins downloaded: {pins_downloaded} pins\")"
   ]
  }
 ],
 "metadata": {
  "kernelspec": {
   "display_name": "Python 3.10.2 64-bit",
   "language": "python",
   "name": "python3"
  },
  "language_info": {
   "codemirror_mode": {
    "name": "ipython",
    "version": 3
   },
   "file_extension": ".py",
   "mimetype": "text/x-python",
   "name": "python",
   "nbconvert_exporter": "python",
   "pygments_lexer": "ipython3",
   "version": "3.10.2"
  },
  "vscode": {
   "interpreter": {
    "hash": "aee8b7b246df8f9039afb4144a1f6fd8d2ca17a180786b69acc140d282b71a49"
   }
  }
 },
 "nbformat": 4,
 "nbformat_minor": 5
}
