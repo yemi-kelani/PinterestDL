{
 "cells": [
  {
   "cell_type": "code",
   "execution_count": null,
   "id": "ff4c9005-4fd4-49a8-939c-8cc9785f3a19",
   "metadata": {},
   "outputs": [],
   "source": [
    "\"\"\"\n",
    "Very useful for downloading references for artwork.\n",
    "Batch download all pins, on all boards, saved or created by a specified user.\n",
    "Simply modify the pinterestUsername and run the script.\n",
    "\n",
    "\n",
    "This only works on the first 10 boards a user has and only copies up to 25 pins per board\n",
    "with file types: ['.jpg', 'jpeg', 'webp', '.png', '.gif']. (Beatiful Soup doesn't work \n",
    "well with javascript rendered pages so this isn't very comprehensive.) \n",
    "Feel free to fork this repo and modify it to pull in more pins.\n",
    "@author: aak\n",
    "\"\"\"\n",
    "\n",
    "import os\n",
    "import re\n",
    "import json\n",
    "import random\n",
    "import requests\n",
    "from bs4 import BeautifulSoup\n",
    "pinterestUsername=\"\" # enter username\n",
    "pinterestURL=\"https://www.pinterest.com\""
   ]
  },
  {
   "cell_type": "code",
   "execution_count": null,
   "id": "5845a0dd-e655-45cf-8b2a-1500b3618ee5",
   "metadata": {},
   "outputs": [],
   "source": [
    "board_page = requests.get(pinterestURL + \"/\" + pinterestUsername + \"/\")\n",
    "doc = BeautifulSoup(board_page.text, \"html.parser\")\n",
    "# print(doc.prettify())\n",
    "del board_page"
   ]
  },
  {
   "cell_type": "code",
   "execution_count": null,
   "id": "0f717e75-dcd1-4811-b2c4-dd18bdd25f1d",
   "metadata": {},
   "outputs": [],
   "source": [
    "# find boards associated with user\n",
    "boards = []\n",
    "for a_tag in doc.find_all('a', href=re.compile(\"/\" + pinterestUsername + \"/*\")):\n",
    "    boards.append(a_tag[\"href\"])\n",
    "\n",
    "if (\"/\" + pinterestUsername + \"/_created\") in boards:  \n",
    "    boards.remove(\"/\" + pinterestUsername + \"/_created\")\n",
    "if (\"/\" + pinterestUsername + \"/_saved\") in boards:\n",
    "    boards.remove(\"/\" + pinterestUsername + \"/_saved\")\n",
    "\n",
    "print('\\n'.join('{}: {}'.format(*k) for k in enumerate(boards)))"
   ]
  },
  {
   "cell_type": "code",
   "execution_count": null,
   "id": "a732e2f0-992a-47d2-97b2-921400cd083e",
   "metadata": {},
   "outputs": [],
   "source": [
    "def get_vals(pkg, key_list, randomize):\n",
    "    if isinstance(pkg, dict):\n",
    "        for i, j in pkg.items():\n",
    "            if i in key_list:\n",
    "                newkey = i+str(random.random()) if randomize else i\n",
    "                yield (newkey, j)\n",
    "            elif isinstance(j, list):\n",
    "                for item in j:\n",
    "                    yield from get_vals(item, key_list, randomize)\n",
    "            else:\n",
    "                yield from [] if not isinstance(j, dict) else get_vals(j, key_list, randomize)\n",
    "    elif isinstance(pkg, list):\n",
    "        for item in pkg:\n",
    "            yield from get_vals(item, key_list, randomize)\n",
    "    else:\n",
    "        yield from []"
   ]
  },
  {
   "cell_type": "code",
   "execution_count": null,
   "id": "c949c34f-817f-4691-b533-fa4668a0e626",
   "metadata": {},
   "outputs": [],
   "source": [
    "def discrepancy(n, p, name):\n",
    "    print(f\"\\n*** SUMMARY: {name}... {p} pins, expected {n} pins\")\n",
    "    if p - n >= 0:\n",
    "        print(f\"*** DISCREPENCY (+): Downloaded {p - n} extra pins \\n\")\n",
    "    else:\n",
    "        print(f\"*** DISCREPENCY (-): Missing {abs(p - n)} pins \\n\")\n",
    "        "
   ]
  },
  {
   "cell_type": "code",
   "execution_count": null,
   "id": "d78ef00e-4b32-4339-a7fd-71c7b798df45",
   "metadata": {
    "tags": []
   },
   "outputs": [],
   "source": [
    "# for each board associated with user, download pins\n",
    "pins_downloaded = 0 \n",
    "for b in boards:\n",
    "    folder_name = \"pins/\" + b.split(\"/\")[-2]\n",
    "    if not os.path.exists(folder_name):\n",
    "        os.makedirs(folder_name)\n",
    "    \n",
    "    pinterestBoardURL = pinterestURL + b\n",
    "    page = requests.get(pinterestBoardURL)\n",
    "    doc = BeautifulSoup(page.text, \"html.parser\")\n",
    "    pins = []\n",
    "    \n",
    "    # *** PULL INDIRECT LINKS ***\n",
    "    \n",
    "    for pin in doc.find_all('a', href=re.compile(\"/pin/\")):\n",
    "        if pinterestURL + str(pin[\"href\"]) not in pins:\n",
    "            pins.append(pinterestURL + str(pin[\"href\"]))\n",
    "    \n",
    "    # *** PULL DIRECT LINKS ***\n",
    "    \n",
    "    # data = json.loads(doc.find(\"script\", id=\"__PWS_DATA__\").text)\n",
    "    # data = data[\"props\"][\"initialReduxState\"]\n",
    "    # data = dict(get_vals(data, [\"images\"], True))\n",
    "    # for k, v in data.items():\n",
    "    #     if isinstance(v, dict) and \"orig\" in v.keys():\n",
    "    #         url = v[\"orig\"][\"url\"]\n",
    "    #         if \"https://i.pinimg.com/originals\" in url and url not in pins:\n",
    "    #             pins.append(url)\n",
    "    \n",
    "    n = json.loads(doc.find(\"script\", type=\"application/ld+json\").text)\n",
    "    n = int(dict(get_vals(n, [\"numberOfItems\"], False))[\"numberOfItems\"])\n",
    "    p = len(pins)\n",
    "    del page, doc\n",
    "    \n",
    "    cwd = os.getcwd()\n",
    "    os.chdir(folder_name)\n",
    "    print(\"Current working directory: {0}\".format(os.getcwd()))\n",
    "    \n",
    "    for pin in pins:\n",
    "        os.system(f\"gallery-dl {pin}\")\n",
    "    \n",
    "    os.chdir(cwd)\n",
    "    print(\"Current working directory: {0}\".format(os.getcwd()))\n",
    "    pins_downloaded += p\n",
    "    discrepancy(n, p, folder_name.split(\"/\")[-1])\n",
    "    \n",
    "print(f\"Total pins downloaded: {pins_downloaded} pins\")"
   ]
  },
  {
   "cell_type": "code",
   "execution_count": null,
   "id": "d12b0e76-815f-41a5-84b0-02b560dee308",
   "metadata": {},
   "outputs": [],
   "source": [
    "# organize the folders\n",
    "import glob\n",
    "import shutil\n",
    "\n",
    "m = 0\n",
    "cwd = os.getcwd()\n",
    "folders = next(os.walk(\"pins\"))[1]\n",
    "for f in folders:\n",
    "    source = cwd + \"/pins/\" + f + \"/gallery-dl/pinterest/*\"\n",
    "    dest = cwd + \"/pins/\" + f \n",
    "\n",
    "    files = glob.glob(os.path.join(source), recursive=True)\n",
    "    for file in files:\n",
    "        if file[-4:].lower() in ('.jpg', 'jpeg', 'webp', '.png', '.gif'):\n",
    "            dst = os.path.join(dest, os.path.basename(file))\n",
    "            shutil.move(file, dst)\n",
    "            m += 1\n",
    "        else:\n",
    "            print(file[-4:].lower())\n",
    "    \n",
    "    shutil.rmtree(cwd + \"/pins/\" + f + \"/gallery-dl\")\n",
    "\n",
    "print(f\"Organized {m} files.\")"
   ]
  },
  {
   "cell_type": "code",
   "execution_count": null,
   "id": "66985930-0c2b-4f99-9ae2-d16ec4493d78",
   "metadata": {},
   "outputs": [],
   "source": []
  }
 ],
 "metadata": {
  "kernelspec": {
   "display_name": "Python 3 (ipykernel)",
   "language": "python",
   "name": "python3"
  },
  "language_info": {
   "codemirror_mode": {
    "name": "ipython",
    "version": 3
   },
   "file_extension": ".py",
   "mimetype": "text/x-python",
   "name": "python",
   "nbconvert_exporter": "python",
   "pygments_lexer": "ipython3",
   "version": "3.8.11"
  },
  "vscode": {
   "interpreter": {
    "hash": "aee8b7b246df8f9039afb4144a1f6fd8d2ca17a180786b69acc140d282b71a49"
   }
  }
 },
 "nbformat": 4,
 "nbformat_minor": 5
}
